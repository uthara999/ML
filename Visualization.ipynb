{
  "cells": [
    {
      "cell_type": "code",
      "execution_count": null,
      "metadata": {
        "id": "_GL6_oDwj_ed"
      },
      "outputs": [],
      "source": [
        "import numpy as np\n",
        "import scipy as sp\n",
        "import pandas as pd\n",
        "import matplotlib.pyplot as plt\n",
        "import seaborn as sns"
      ]
    },
    {
      "cell_type": "code",
      "execution_count": null,
      "metadata": {
        "id": "ZDFhY3S9j_en",
        "outputId": "c2dec669-f189-4c73-8a32-65c2e4130ba6"
      },
      "outputs": [
        {
          "name": "stdout",
          "output_type": "stream",
          "text": [
            "         rank discipline  phd  service     sex  salary\n",
            "73       Prof          B   18       10  Female  105450\n",
            "74  AssocProf          B   19        6  Female  104542\n",
            "75       Prof          B   17       17  Female  124312\n",
            "76       Prof          A   28       14  Female  109954\n",
            "77       Prof          A   23       15  Female  109646\n"
          ]
        }
      ],
      "source": [
        "df = pd.read_csv('D:\\Data Mining\\Lab\\Lab1\\lab1\\Salaries.csv')\n",
        "print(df.tail())\n"
      ]
    },
    {
      "cell_type": "code",
      "execution_count": null,
      "metadata": {
        "id": "SFXhfttrj_er",
        "outputId": "4ffc5263-824a-43d4-e0ed-5a7e6d5906f8"
      },
      "outputs": [
        {
          "data": {
            "text/plain": [
              "<AxesSubplot:ylabel='rank'>"
            ]
          },
          "execution_count": 39,
          "metadata": {},
          "output_type": "execute_result"
        },
        {
          "data": {
            "image/png": "[encoded data removed]",
            "text/plain": [
              "<Figure size 432x288 with 1 Axes>"
            ]
          },
          "metadata": {},
          "output_type": "display_data"
        }
      ],
      "source": [
        "df['rank'].value_counts().plot.pie(autopct='%1.1f%%')"
      ]
    },
    {
      "cell_type": "code",
      "execution_count": null,
      "metadata": {
        "id": "G52F__1Vj_et",
        "outputId": "2475053e-9a53-40fd-d756-9e0e799a663f"
      },
      "outputs": [
        {
          "data": {
            "text/plain": [
              "{'whiskers': [<matplotlib.lines.Line2D at 0x23ee898c5b0>,\n",
              "  <matplotlib.lines.Line2D at 0x23ee898c910>,\n",
              "  <matplotlib.lines.Line2D at 0x23ee8996d90>,\n",
              "  <matplotlib.lines.Line2D at 0x23ee89a3130>],\n",
              " 'caps': [<matplotlib.lines.Line2D at 0x23ee898cc70>,\n",
              "  <matplotlib.lines.Line2D at 0x23ee898cfd0>,\n",
              "  <matplotlib.lines.Line2D at 0x23ee89a3490>,\n",
              "  <matplotlib.lines.Line2D at 0x23ee89a37f0>],\n",
              " 'boxes': [<matplotlib.lines.Line2D at 0x23ee898c250>,\n",
              "  <matplotlib.lines.Line2D at 0x23ee8996a30>],\n",
              " 'medians': [<matplotlib.lines.Line2D at 0x23ee8996370>,\n",
              "  <matplotlib.lines.Line2D at 0x23ee89a3b50>],\n",
              " 'fliers': [<matplotlib.lines.Line2D at 0x23ee89966d0>,\n",
              "  <matplotlib.lines.Line2D at 0x23ee89a3eb0>],\n",
              " 'means': []}"
            ]
          },
          "execution_count": 25,
          "metadata": {},
          "output_type": "execute_result"
        },
        {
          "data": {
            "image/png": "[encoded data removed]",
            "text/plain": [
              "<Figure size 432x288 with 1 Axes>"
            ]
          },
          "metadata": {
            "needs_background": "light"
          },
          "output_type": "display_data"
        }
      ],
      "source": [
        "a = df[df['rank']=='Prof']['salary']\n",
        "b = df[df['rank']=='AssocProf']['salary']\n",
        "\n",
        "plt.boxplot([a,b], labels=['Prof', 'AssocProf'])"
      ]
    },
    {
      "cell_type": "code",
      "execution_count": null,
      "metadata": {
        "id": "9QIVmC81j_ev",
        "outputId": "74e12f46-1222-45dc-9052-e469b1c48a1b"
      },
      "outputs": [
        {
          "data": {
            "text/html": [
              "<div>\n",
              "<style scoped>\n",
              "    .dataframe tbody tr th:only-of-type {\n",
              "        vertical-align: middle;\n",
              "    }\n",
              "\n",
              "    .dataframe tbody tr th {\n",
              "        vertical-align: top;\n",
              "    }\n",
              "\n",
              "    .dataframe thead th {\n",
              "        text-align: right;\n",
              "    }\n",
              "</style>\n",
              "<table border=\"1\" class=\"dataframe\">\n",
              "  <thead>\n",
              "    <tr style=\"text-align: right;\">\n",
              "      <th></th>\n",
              "      <th>sepal_length</th>\n",
              "      <th>sepal_width</th>\n",
              "      <th>petal_length</th>\n",
              "      <th>petal_width</th>\n",
              "    </tr>\n",
              "  </thead>\n",
              "  <tbody>\n",
              "    <tr>\n",
              "      <th>0</th>\n",
              "      <td>5.1</td>\n",
              "      <td>3.5</td>\n",
              "      <td>1.4</td>\n",
              "      <td>0.2</td>\n",
              "    </tr>\n",
              "    <tr>\n",
              "      <th>1</th>\n",
              "      <td>4.9</td>\n",
              "      <td>3.0</td>\n",
              "      <td>1.4</td>\n",
              "      <td>0.2</td>\n",
              "    </tr>\n",
              "    <tr>\n",
              "      <th>2</th>\n",
              "      <td>4.7</td>\n",
              "      <td>3.2</td>\n",
              "      <td>1.3</td>\n",
              "      <td>0.2</td>\n",
              "    </tr>\n",
              "    <tr>\n",
              "      <th>3</th>\n",
              "      <td>4.6</td>\n",
              "      <td>3.1</td>\n",
              "      <td>1.5</td>\n",
              "      <td>0.2</td>\n",
              "    </tr>\n",
              "    <tr>\n",
              "      <th>4</th>\n",
              "      <td>5.0</td>\n",
              "      <td>3.6</td>\n",
              "      <td>1.4</td>\n",
              "      <td>0.2</td>\n",
              "    </tr>\n",
              "  </tbody>\n",
              "</table>\n",
              "</div>"
            ],
            "text/plain": [
              "   sepal_length  sepal_width  petal_length  petal_width\n",
              "0           5.1          3.5           1.4          0.2\n",
              "1           4.9          3.0           1.4          0.2\n",
              "2           4.7          3.2           1.3          0.2\n",
              "3           4.6          3.1           1.5          0.2\n",
              "4           5.0          3.6           1.4          0.2"
            ]
          },
          "execution_count": 4,
          "metadata": {},
          "output_type": "execute_result"
        }
      ],
      "source": [
        "\n",
        "iris_data = pd.read_csv('D:\\Data Mining\\Lab\\Lab1\\lab1\\iris.csv',na_values='NA')\n",
        "iris_data.head()"
      ]
    },
    {
      "cell_type": "code",
      "execution_count": null,
      "metadata": {
        "id": "QJjV6NZ8j_ew",
        "outputId": "896f9f98-03c4-48c1-b199-071f9af91a9d"
      },
      "outputs": [
        {
          "data": {
            "text/plain": [
              "(array([11., 46., 68., 21.,  4.]),\n",
              " array([2.  , 2.48, 2.96, 3.44, 3.92, 4.4 ]),\n",
              " <BarContainer object of 5 artists>)"
            ]
          },
          "execution_count": 40,
          "metadata": {},
          "output_type": "execute_result"
        },
        {
          "data": {
            "image/png": "[encoded data removed]",
            "text/plain": [
              "<Figure size 432x288 with 1 Axes>"
            ]
          },
          "metadata": {
            "needs_background": "light"
          },
          "output_type": "display_data"
        }
      ],
      "source": [
        "plt.hist(iris_data.sepal_width,bins=5)"
      ]
    },
    {
      "cell_type": "code",
      "execution_count": null,
      "metadata": {
        "id": "a6wF27Qnj_ey",
        "outputId": "dced0149-b0af-4314-9060-392ac24e8546"
      },
      "outputs": [
        {
          "data": {
            "text/plain": [
              "array([[<AxesSubplot:title={'center':'sepal_length'}>,\n",
              "        <AxesSubplot:title={'center':'sepal_width'}>],\n",
              "       [<AxesSubplot:title={'center':'petal_length'}>,\n",
              "        <AxesSubplot:title={'center':'petal_width'}>]], dtype=object)"
            ]
          },
          "execution_count": 5,
          "metadata": {},
          "output_type": "execute_result"
        },
        {
          "data": {
            "image/png": "[encoded data removed]",
            "text/plain": [
              "<Figure size 432x288 with 4 Axes>"
            ]
          },
          "metadata": {
            "needs_background": "light"
          },
          "output_type": "display_data"
        }
      ],
      "source": [
        "iris_data.hist()"
      ]
    },
    {
      "cell_type": "code",
      "execution_count": null,
      "metadata": {
        "id": "lnbsswxqj_e0",
        "outputId": "fa6a5045-9a33-4c97-9c71-44b43466dc66"
      },
      "outputs": [
        {
          "data": {
            "text/plain": [
              "<matplotlib.collections.PathCollection at 0x23ee86de1c0>"
            ]
          },
          "execution_count": 11,
          "metadata": {},
          "output_type": "execute_result"
        },
        {
          "data": {
            "image/png": "[encoded data removed]",
            "text/plain": [
              "<Figure size 432x288 with 1 Axes>"
            ]
          },
          "metadata": {
            "needs_background": "light"
          },
          "output_type": "display_data"
        }
      ],
      "source": [
        "plt.scatter(iris_data.sepal_length,iris_data.petal_width)"
      ]
    },
    {
      "cell_type": "code",
      "execution_count": null,
      "metadata": {
        "id": "7mB9_e9jj_e2",
        "outputId": "90074791-f8c1-45c6-eed4-766c112f2b06"
      },
      "outputs": [
        {
          "data": {
            "text/plain": [
              "{'whiskers': [<matplotlib.lines.Line2D at 0x23ee8c9ea00>,\n",
              "  <matplotlib.lines.Line2D at 0x23ee8c9e3d0>],\n",
              " 'caps': [<matplotlib.lines.Line2D at 0x23ee8ca13a0>,\n",
              "  <matplotlib.lines.Line2D at 0x23ee8ccb700>],\n",
              " 'boxes': [<matplotlib.lines.Line2D at 0x23ee8c2cdc0>],\n",
              " 'medians': [<matplotlib.lines.Line2D at 0x23ee8c39400>],\n",
              " 'fliers': [<matplotlib.lines.Line2D at 0x23ee8ce3e50>],\n",
              " 'means': []}"
            ]
          },
          "execution_count": 48,
          "metadata": {},
          "output_type": "execute_result"
        },
        {
          "data": {
            "image/png": "[encoded data removed]",
            "text/plain": [
              "<Figure size 432x288 with 1 Axes>"
            ]
          },
          "metadata": {
            "needs_background": "light"
          },
          "output_type": "display_data"
        }
      ],
      "source": [
        "\n",
        "plt.boxplot(df.salary)"
      ]
    },
    {
      "cell_type": "code",
      "execution_count": null,
      "metadata": {
        "id": "T3frXsozj_e4",
        "outputId": "1db6e69e-e351-481a-a50d-81d7a3d52b3d"
      },
      "outputs": [
        {
          "data": {
            "text/plain": [
              "<AxesSubplot:xlabel='rank', ylabel='salary'>"
            ]
          },
          "execution_count": 49,
          "metadata": {},
          "output_type": "execute_result"
        },
        {
          "data": {
            "image/png": "[encoded data removed]",
            "text/plain": [
              "<Figure size 432x288 with 1 Axes>"
            ]
          },
          "metadata": {
            "needs_background": "light"
          },
          "output_type": "display_data"
        }
      ],
      "source": [
        "sns.boxplot(x='rank', y='salary', data=df)"
      ]
    },
    {
      "cell_type": "code",
      "execution_count": null,
      "metadata": {
        "id": "YDpxS1VTj_e6",
        "outputId": "eeb75172-f5f4-46be-b7bd-7ea8427b7997"
      },
      "outputs": [
        {
          "data": {
            "text/plain": [
              "<AxesSubplot:xlabel='salary', ylabel='Count'>"
            ]
          },
          "execution_count": 51,
          "metadata": {},
          "output_type": "execute_result"
        },
        {
          "data": {
            "image/png": "[encoded data removed]",
            "text/plain": [
              "<Figure size 432x288 with 1 Axes>"
            ]
          },
          "metadata": {
            "needs_background": "light"
          },
          "output_type": "display_data"
        }
      ],
      "source": [
        "sns.histplot(data=df,x='salary',bins=5)"
      ]
    },
    {
      "cell_type": "code",
      "execution_count": null,
      "metadata": {
        "id": "e2y5B5fRj_e7",
        "outputId": "2236afe5-1f16-4df0-a5fa-0af56219e53a"
      },
      "outputs": [
        {
          "data": {
            "text/plain": [
              "<AxesSubplot:xlabel='sepal_width', ylabel='petal_width'>"
            ]
          },
          "execution_count": 52,
          "metadata": {},
          "output_type": "execute_result"
        },
        {
          "data": {
            "image/png": "[encoded data removed]",
            "text/plain": [
              "<Figure size 432x288 with 1 Axes>"
            ]
          },
          "metadata": {
            "needs_background": "light"
          },
          "output_type": "display_data"
        }
      ],
      "source": [
        "sns.scatterplot(x='sepal_width',y='petal_width',data=iris_data)"
      ]
    },
    {
      "cell_type": "code",
      "execution_count": null,
      "metadata": {
        "id": "zxA57cY7j_e7"
      },
      "outputs": [],
      "source": []
    }
  ],
  "metadata": {
    "kernelspec": {
      "display_name": "Python 3",
      "language": "python",
      "name": "python3"
    },
    "language_info": {
      "codemirror_mode": {
        "name": "ipython",
        "version": 3
      },
      "file_extension": ".py",
      "mimetype": "text/x-python",
      "name": "python",
      "nbconvert_exporter": "python",
      "pygments_lexer": "ipython3",
      "version": "3.8.5"
    },
    "colab": {
      "provenance": []
    }
  },
  "nbformat": 4,
  "nbformat_minor": 0
}