{
  "nbformat": 4,
  "nbformat_minor": 0,
  "metadata": {
    "colab": {
      "provenance": []
    },
    "kernelspec": {
      "name": "python3",
      "display_name": "Python 3"
    },
    "language_info": {
      "name": "python"
    }
  },
  "cells": [
    {
      "cell_type": "code",
      "metadata": {
        "id": "JQ4M3S3OWqb9"
      },
      "source": [
        "import pandas as pd\n",
        "import numpy as np\n",
        "import seaborn as sns\n",
        "from sklearn.linear_model import LinearRegression\n",
        "from sklearn.model_selection import train_test_split\n",
        "from sklearn.metrics import mean_squared_error"
      ],
      "execution_count": null,
      "outputs": []
    },
    {
      "cell_type": "markdown",
      "metadata": {
        "id": "gyGz8xiNa_Zx"
      },
      "source": [
        "## 1. Read the data from file and load it into a dataframe"
      ]
    },
    {
      "cell_type": "code",
      "metadata": {
        "id": "xez4u2PVW6f3"
      },
      "source": [
        "df=pd.read_csv('sales_data.csv')"
      ],
      "execution_count": null,
      "outputs": []
    },
    {
      "cell_type": "code",
      "source": [
        "df.shape"
      ],
      "metadata": {
        "colab": {
          "base_uri": "https://localhost:8080/"
        },
        "id": "icfmomuxGVQB",
        "outputId": "bd8607ee-2a64-487f-b19f-faaad7d59861"
      },
      "execution_count": null,
      "outputs": [
        {
          "output_type": "execute_result",
          "data": {
            "text/plain": [
              "(550068, 12)"
            ]
          },
          "metadata": {},
          "execution_count": 42
        }
      ]
    },
    {
      "cell_type": "code",
      "metadata": {
        "colab": {
          "base_uri": "https://localhost:8080/"
        },
        "id": "nwlfPJxCujpp",
        "outputId": "737991c3-14a7-46e8-aff7-4a2f8a785c76"
      },
      "source": [
        "df.values"
      ],
      "execution_count": null,
      "outputs": [
        {
          "output_type": "execute_result",
          "data": {
            "text/plain": [
              "array([[1000001, 'P00069042', 'F', ..., nan, nan, 8370],\n",
              "       [1000001, 'P00248942', 'F', ..., 6.0, 14.0, 15200],\n",
              "       [1000001, 'P00087842', 'F', ..., nan, nan, 1422],\n",
              "       ...,\n",
              "       [1006036, 'P00375436', 'F', ..., nan, nan, 137],\n",
              "       [1006038, 'P00375436', 'F', ..., nan, nan, 365],\n",
              "       [1006039, 'P00371644', 'F', ..., nan, nan, 490]], dtype=object)"
            ]
          },
          "metadata": {},
          "execution_count": 3
        }
      ]
    },
    {
      "cell_type": "code",
      "metadata": {
        "colab": {
          "base_uri": "https://localhost:8080/",
          "height": 444
        },
        "id": "0qDFNBlkjvFS",
        "outputId": "2396bec1-5541-44b9-c6c7-ac1e16fbc97a"
      },
      "source": [
        "df"
      ],
      "execution_count": null,
      "outputs": [
        {
          "output_type": "execute_result",
          "data": {
            "text/html": [
              "<div>\n",
              "<style scoped>\n",
              "    .dataframe tbody tr th:only-of-type {\n",
              "        vertical-align: middle;\n",
              "    }\n",
              "\n",
              "    .dataframe tbody tr th {\n",
              "        vertical-align: top;\n",
              "    }\n",
              "\n",
              "    .dataframe thead th {\n",
              "        text-align: right;\n",
              "    }\n",
              "</style>\n",
              "<table border=\"1\" class=\"dataframe\">\n",
              "  <thead>\n",
              "    <tr style=\"text-align: right;\">\n",
              "      <th></th>\n",
              "      <th>User_ID</th>\n",
              "      <th>Product_ID</th>\n",
              "      <th>Gender</th>\n",
              "      <th>Age</th>\n",
              "      <th>Occupation</th>\n",
              "      <th>City_Category</th>\n",
              "      <th>Stay_In_Current_City_Years</th>\n",
              "      <th>Marital_Status</th>\n",
              "      <th>Product_Category_1</th>\n",
              "      <th>Product_Category_2</th>\n",
              "      <th>Product_Category_3</th>\n",
              "      <th>Purchase</th>\n",
              "    </tr>\n",
              "  </thead>\n",
              "  <tbody>\n",
              "    <tr>\n",
              "      <th>0</th>\n",
              "      <td>1000001</td>\n",
              "      <td>P00069042</td>\n",
              "      <td>F</td>\n",
              "      <td>15.0</td>\n",
              "      <td>10.0</td>\n",
              "      <td>A</td>\n",
              "      <td>2</td>\n",
              "      <td>0.0</td>\n",
              "      <td>3.0</td>\n",
              "      <td>NaN</td>\n",
              "      <td>NaN</td>\n",
              "      <td>8370.0</td>\n",
              "    </tr>\n",
              "    <tr>\n",
              "      <th>1</th>\n",
              "      <td>1000001</td>\n",
              "      <td>P00248942</td>\n",
              "      <td>F</td>\n",
              "      <td>15.0</td>\n",
              "      <td>10.0</td>\n",
              "      <td>A</td>\n",
              "      <td>2</td>\n",
              "      <td>0.0</td>\n",
              "      <td>1.0</td>\n",
              "      <td>6.0</td>\n",
              "      <td>14.0</td>\n",
              "      <td>15200.0</td>\n",
              "    </tr>\n",
              "    <tr>\n",
              "      <th>2</th>\n",
              "      <td>1000001</td>\n",
              "      <td>P00087842</td>\n",
              "      <td>F</td>\n",
              "      <td>15.0</td>\n",
              "      <td>10.0</td>\n",
              "      <td>A</td>\n",
              "      <td>2</td>\n",
              "      <td>0.0</td>\n",
              "      <td>12.0</td>\n",
              "      <td>NaN</td>\n",
              "      <td>NaN</td>\n",
              "      <td>1422.0</td>\n",
              "    </tr>\n",
              "    <tr>\n",
              "      <th>3</th>\n",
              "      <td>1000001</td>\n",
              "      <td>P00085442</td>\n",
              "      <td>F</td>\n",
              "      <td>15.0</td>\n",
              "      <td>10.0</td>\n",
              "      <td>A</td>\n",
              "      <td>2</td>\n",
              "      <td>0.0</td>\n",
              "      <td>12.0</td>\n",
              "      <td>14.0</td>\n",
              "      <td>NaN</td>\n",
              "      <td>1057.0</td>\n",
              "    </tr>\n",
              "    <tr>\n",
              "      <th>4</th>\n",
              "      <td>1000002</td>\n",
              "      <td>P00285442</td>\n",
              "      <td>M</td>\n",
              "      <td>60.0</td>\n",
              "      <td>16.0</td>\n",
              "      <td>C</td>\n",
              "      <td>4+</td>\n",
              "      <td>0.0</td>\n",
              "      <td>8.0</td>\n",
              "      <td>NaN</td>\n",
              "      <td>NaN</td>\n",
              "      <td>7969.0</td>\n",
              "    </tr>\n",
              "    <tr>\n",
              "      <th>...</th>\n",
              "      <td>...</td>\n",
              "      <td>...</td>\n",
              "      <td>...</td>\n",
              "      <td>...</td>\n",
              "      <td>...</td>\n",
              "      <td>...</td>\n",
              "      <td>...</td>\n",
              "      <td>...</td>\n",
              "      <td>...</td>\n",
              "      <td>...</td>\n",
              "      <td>...</td>\n",
              "      <td>...</td>\n",
              "    </tr>\n",
              "    <tr>\n",
              "      <th>144520</th>\n",
              "      <td>1004285</td>\n",
              "      <td>P00166142</td>\n",
              "      <td>M</td>\n",
              "      <td>40.0</td>\n",
              "      <td>0.0</td>\n",
              "      <td>B</td>\n",
              "      <td>3</td>\n",
              "      <td>0.0</td>\n",
              "      <td>5.0</td>\n",
              "      <td>NaN</td>\n",
              "      <td>NaN</td>\n",
              "      <td>7036.0</td>\n",
              "    </tr>\n",
              "    <tr>\n",
              "      <th>144521</th>\n",
              "      <td>1004285</td>\n",
              "      <td>P00046742</td>\n",
              "      <td>M</td>\n",
              "      <td>40.0</td>\n",
              "      <td>0.0</td>\n",
              "      <td>B</td>\n",
              "      <td>3</td>\n",
              "      <td>0.0</td>\n",
              "      <td>1.0</td>\n",
              "      <td>2.0</td>\n",
              "      <td>15.0</td>\n",
              "      <td>15465.0</td>\n",
              "    </tr>\n",
              "    <tr>\n",
              "      <th>144522</th>\n",
              "      <td>1004285</td>\n",
              "      <td>P00045142</td>\n",
              "      <td>M</td>\n",
              "      <td>40.0</td>\n",
              "      <td>0.0</td>\n",
              "      <td>B</td>\n",
              "      <td>3</td>\n",
              "      <td>0.0</td>\n",
              "      <td>1.0</td>\n",
              "      <td>2.0</td>\n",
              "      <td>6.0</td>\n",
              "      <td>8165.0</td>\n",
              "    </tr>\n",
              "    <tr>\n",
              "      <th>144523</th>\n",
              "      <td>1004285</td>\n",
              "      <td>P00053142</td>\n",
              "      <td>M</td>\n",
              "      <td>40.0</td>\n",
              "      <td>0.0</td>\n",
              "      <td>B</td>\n",
              "      <td>3</td>\n",
              "      <td>0.0</td>\n",
              "      <td>1.0</td>\n",
              "      <td>NaN</td>\n",
              "      <td>NaN</td>\n",
              "      <td>7865.0</td>\n",
              "    </tr>\n",
              "    <tr>\n",
              "      <th>144524</th>\n",
              "      <td>10042</td>\n",
              "      <td>NaN</td>\n",
              "      <td>NaN</td>\n",
              "      <td>NaN</td>\n",
              "      <td>NaN</td>\n",
              "      <td>NaN</td>\n",
              "      <td>NaN</td>\n",
              "      <td>NaN</td>\n",
              "      <td>NaN</td>\n",
              "      <td>NaN</td>\n",
              "      <td>NaN</td>\n",
              "      <td>NaN</td>\n",
              "    </tr>\n",
              "  </tbody>\n",
              "</table>\n",
              "<p>144525 rows × 12 columns</p>\n",
              "</div>"
            ],
            "text/plain": [
              "        User_ID Product_ID  ... Product_Category_3  Purchase\n",
              "0       1000001  P00069042  ...                NaN    8370.0\n",
              "1       1000001  P00248942  ...               14.0   15200.0\n",
              "2       1000001  P00087842  ...                NaN    1422.0\n",
              "3       1000001  P00085442  ...                NaN    1057.0\n",
              "4       1000002  P00285442  ...                NaN    7969.0\n",
              "...         ...        ...  ...                ...       ...\n",
              "144520  1004285  P00166142  ...                NaN    7036.0\n",
              "144521  1004285  P00046742  ...               15.0   15465.0\n",
              "144522  1004285  P00045142  ...                6.0    8165.0\n",
              "144523  1004285  P00053142  ...                NaN    7865.0\n",
              "144524    10042        NaN  ...                NaN       NaN\n",
              "\n",
              "[144525 rows x 12 columns]"
            ]
          },
          "metadata": {},
          "execution_count": 10
        }
      ]
    },
    {
      "cell_type": "markdown",
      "metadata": {
        "id": "tIzjLDzpbDbX"
      },
      "source": [
        "## 2. Print the statistical properties.\n"
      ]
    },
    {
      "cell_type": "code",
      "metadata": {
        "colab": {
          "base_uri": "https://localhost:8080/",
          "height": 300
        },
        "id": "GLOvbT_ZZIyp",
        "outputId": "04e21e05-ea19-4892-cc93-f8c75d8d69f9"
      },
      "source": [
        "df.describe()"
      ],
      "execution_count": null,
      "outputs": [
        {
          "output_type": "execute_result",
          "data": {
            "text/html": [
              "<div>\n",
              "<style scoped>\n",
              "    .dataframe tbody tr th:only-of-type {\n",
              "        vertical-align: middle;\n",
              "    }\n",
              "\n",
              "    .dataframe tbody tr th {\n",
              "        vertical-align: top;\n",
              "    }\n",
              "\n",
              "    .dataframe thead th {\n",
              "        text-align: right;\n",
              "    }\n",
              "</style>\n",
              "<table border=\"1\" class=\"dataframe\">\n",
              "  <thead>\n",
              "    <tr style=\"text-align: right;\">\n",
              "      <th></th>\n",
              "      <th>User_ID</th>\n",
              "      <th>Age</th>\n",
              "      <th>Occupation</th>\n",
              "      <th>Marital_Status</th>\n",
              "      <th>Product_Category_1</th>\n",
              "      <th>Product_Category_2</th>\n",
              "      <th>Product_Category_3</th>\n",
              "      <th>Purchase</th>\n",
              "    </tr>\n",
              "  </thead>\n",
              "  <tbody>\n",
              "    <tr>\n",
              "      <th>count</th>\n",
              "      <td>1.445250e+05</td>\n",
              "      <td>144524.000000</td>\n",
              "      <td>144524.000000</td>\n",
              "      <td>144524.000000</td>\n",
              "      <td>144524.000000</td>\n",
              "      <td>99639.000000</td>\n",
              "      <td>44204.000000</td>\n",
              "      <td>144524.000000</td>\n",
              "    </tr>\n",
              "    <tr>\n",
              "      <th>mean</th>\n",
              "      <td>1.002852e+06</td>\n",
              "      <td>34.189789</td>\n",
              "      <td>8.100516</td>\n",
              "      <td>0.407351</td>\n",
              "      <td>5.296062</td>\n",
              "      <td>9.856121</td>\n",
              "      <td>12.665754</td>\n",
              "      <td>9307.982916</td>\n",
              "    </tr>\n",
              "    <tr>\n",
              "      <th>std</th>\n",
              "      <td>3.105821e+03</td>\n",
              "      <td>11.066329</td>\n",
              "      <td>6.534483</td>\n",
              "      <td>0.491343</td>\n",
              "      <td>3.747138</td>\n",
              "      <td>5.087006</td>\n",
              "      <td>4.119372</td>\n",
              "      <td>4985.004455</td>\n",
              "    </tr>\n",
              "    <tr>\n",
              "      <th>min</th>\n",
              "      <td>1.004200e+04</td>\n",
              "      <td>15.000000</td>\n",
              "      <td>0.000000</td>\n",
              "      <td>0.000000</td>\n",
              "      <td>1.000000</td>\n",
              "      <td>2.000000</td>\n",
              "      <td>3.000000</td>\n",
              "      <td>185.000000</td>\n",
              "    </tr>\n",
              "    <tr>\n",
              "      <th>25%</th>\n",
              "      <td>1.001409e+06</td>\n",
              "      <td>30.000000</td>\n",
              "      <td>2.000000</td>\n",
              "      <td>0.000000</td>\n",
              "      <td>1.000000</td>\n",
              "      <td>5.000000</td>\n",
              "      <td>9.000000</td>\n",
              "      <td>5845.000000</td>\n",
              "    </tr>\n",
              "    <tr>\n",
              "      <th>50%</th>\n",
              "      <td>1.002863e+06</td>\n",
              "      <td>30.000000</td>\n",
              "      <td>7.000000</td>\n",
              "      <td>0.000000</td>\n",
              "      <td>5.000000</td>\n",
              "      <td>9.000000</td>\n",
              "      <td>14.000000</td>\n",
              "      <td>8052.500000</td>\n",
              "    </tr>\n",
              "    <tr>\n",
              "      <th>75%</th>\n",
              "      <td>1.004162e+06</td>\n",
              "      <td>40.000000</td>\n",
              "      <td>14.000000</td>\n",
              "      <td>1.000000</td>\n",
              "      <td>8.000000</td>\n",
              "      <td>15.000000</td>\n",
              "      <td>16.000000</td>\n",
              "      <td>12064.000000</td>\n",
              "    </tr>\n",
              "    <tr>\n",
              "      <th>max</th>\n",
              "      <td>1.006040e+06</td>\n",
              "      <td>60.000000</td>\n",
              "      <td>20.000000</td>\n",
              "      <td>1.000000</td>\n",
              "      <td>18.000000</td>\n",
              "      <td>18.000000</td>\n",
              "      <td>18.000000</td>\n",
              "      <td>23961.000000</td>\n",
              "    </tr>\n",
              "  </tbody>\n",
              "</table>\n",
              "</div>"
            ],
            "text/plain": [
              "            User_ID            Age  ...  Product_Category_3       Purchase\n",
              "count  1.445250e+05  144524.000000  ...        44204.000000  144524.000000\n",
              "mean   1.002852e+06      34.189789  ...           12.665754    9307.982916\n",
              "std    3.105821e+03      11.066329  ...            4.119372    4985.004455\n",
              "min    1.004200e+04      15.000000  ...            3.000000     185.000000\n",
              "25%    1.001409e+06      30.000000  ...            9.000000    5845.000000\n",
              "50%    1.002863e+06      30.000000  ...           14.000000    8052.500000\n",
              "75%    1.004162e+06      40.000000  ...           16.000000   12064.000000\n",
              "max    1.006040e+06      60.000000  ...           18.000000   23961.000000\n",
              "\n",
              "[8 rows x 8 columns]"
            ]
          },
          "metadata": {},
          "execution_count": 4
        }
      ]
    },
    {
      "cell_type": "markdown",
      "metadata": {
        "id": "aVBCjUUPbJGn"
      },
      "source": [
        "## 3. Print the Data types of different fields."
      ]
    },
    {
      "cell_type": "code",
      "source": [
        "print(df.dtypes)"
      ],
      "metadata": {
        "colab": {
          "base_uri": "https://localhost:8080/"
        },
        "id": "6pmLxfttwsN_",
        "outputId": "a8104e22-7854-470d-dcc4-e9792249f704"
      },
      "execution_count": null,
      "outputs": [
        {
          "output_type": "stream",
          "name": "stdout",
          "text": [
            "User_ID                         int64\n",
            "Product_ID                     object\n",
            "Gender                         object\n",
            "Age                             int64\n",
            "Occupation                      int64\n",
            "City_Category                  object\n",
            "Stay_In_Current_City_Years     object\n",
            "Marital_Status                  int64\n",
            "Product_Category_1              int64\n",
            "Product_Category_2            float64\n",
            "Product_Category_3            float64\n",
            "Purchase                        int64\n",
            "dtype: object\n"
          ]
        }
      ]
    },
    {
      "cell_type": "markdown",
      "metadata": {
        "id": "DzwfZE3qbQv8"
      },
      "source": [
        "##4. Print the first and last 5 records.\n"
      ]
    },
    {
      "cell_type": "code",
      "metadata": {
        "colab": {
          "base_uri": "https://localhost:8080/"
        },
        "id": "bjR7fa1YZX-e",
        "outputId": "06e442c8-9f58-47b1-efea-a49b8a02de58"
      },
      "source": [
        "print(df.head(5))\n",
        "print(df.tail(5))"
      ],
      "execution_count": null,
      "outputs": [
        {
          "output_type": "stream",
          "name": "stdout",
          "text": [
            "   User_ID Product_ID Gender  ...  Product_Category_2  Product_Category_3 Purchase\n",
            "0  1000001  P00069042      F  ...                 NaN                 NaN   8370.0\n",
            "1  1000001  P00248942      F  ...                 6.0                14.0  15200.0\n",
            "2  1000001  P00087842      F  ...                 NaN                 NaN   1422.0\n",
            "3  1000001  P00085442      F  ...                14.0                 NaN   1057.0\n",
            "4  1000002  P00285442      M  ...                 NaN                 NaN   7969.0\n",
            "\n",
            "[5 rows x 12 columns]\n",
            "        User_ID Product_ID  ... Product_Category_3  Purchase\n",
            "144520  1004285  P00166142  ...                NaN    7036.0\n",
            "144521  1004285  P00046742  ...               15.0   15465.0\n",
            "144522  1004285  P00045142  ...                6.0    8165.0\n",
            "144523  1004285  P00053142  ...                NaN    7865.0\n",
            "144524    10042        NaN  ...                NaN       NaN\n",
            "\n",
            "[5 rows x 12 columns]\n"
          ]
        }
      ]
    },
    {
      "cell_type": "markdown",
      "metadata": {
        "id": "dUOcYSwAbWRl"
      },
      "source": [
        "## 5. Check whether there are any null values"
      ]
    },
    {
      "cell_type": "code",
      "metadata": {
        "colab": {
          "base_uri": "https://localhost:8080/"
        },
        "id": "Irl_nL7saCVn",
        "outputId": "7b770355-690b-497d-b434-72f6d808548e"
      },
      "source": [
        "df.isnull().any()"
      ],
      "execution_count": null,
      "outputs": [
        {
          "output_type": "execute_result",
          "data": {
            "text/plain": [
              "User_ID                       False\n",
              "Product_ID                    False\n",
              "Gender                        False\n",
              "Age                           False\n",
              "Occupation                    False\n",
              "City_Category                 False\n",
              "Stay_In_Current_City_Years    False\n",
              "Marital_Status                False\n",
              "Product_Category_1            False\n",
              "Product_Category_2             True\n",
              "Product_Category_3             True\n",
              "Purchase                      False\n",
              "dtype: bool"
            ]
          },
          "metadata": {},
          "execution_count": 4
        }
      ]
    },
    {
      "cell_type": "markdown",
      "metadata": {
        "id": "wPNo4-Bpiykz"
      },
      "source": [
        "## 6. Print the number of null values in each column, in the dataframe."
      ]
    },
    {
      "cell_type": "code",
      "metadata": {
        "colab": {
          "base_uri": "https://localhost:8080/"
        },
        "id": "tImxrP8AiyJo",
        "outputId": "ade7e854-3ad0-4611-dae8-826f63ac41e0"
      },
      "source": [
        "df.isna().sum()"
      ],
      "execution_count": null,
      "outputs": [
        {
          "output_type": "execute_result",
          "data": {
            "text/plain": [
              "User_ID                            0\n",
              "Product_ID                         0\n",
              "Gender                             0\n",
              "Age                                0\n",
              "Occupation                         0\n",
              "City_Category                      0\n",
              "Stay_In_Current_City_Years         0\n",
              "Marital_Status                     0\n",
              "Product_Category_1                 0\n",
              "Product_Category_2            173638\n",
              "Product_Category_3            383247\n",
              "Purchase                           0\n",
              "dtype: int64"
            ]
          },
          "metadata": {},
          "execution_count": 6
        }
      ]
    },
    {
      "cell_type": "markdown",
      "metadata": {
        "id": "KO2OQKwajk3y"
      },
      "source": [
        "## Use countplot in seabon library to plot the number of male and female customers."
      ]
    },
    {
      "cell_type": "code",
      "metadata": {
        "colab": {
          "base_uri": "https://localhost:8080/",
          "height": 297
        },
        "id": "Kp29K74jjaY8",
        "outputId": "d84c5ee0-8c7f-4525-cc43-22dff7a1b0f8"
      },
      "source": [
        "sns.countplot(x=\"Gender\",data=df)"
      ],
      "execution_count": null,
      "outputs": [
        {
          "output_type": "execute_result",
          "data": {
            "text/plain": [
              "<matplotlib.axes._subplots.AxesSubplot at 0x7fe0559b06d0>"
            ]
          },
          "metadata": {},
          "execution_count": 9
        },
        {
          "output_type": "display_data",
          "data": {
            "image/png": "[encoded data removed]",
            "text/plain": [
              "<Figure size 432x288 with 1 Axes>"
            ]
          },
          "metadata": {
            "needs_background": "light"
          }
        }
      ]
    },
    {
      "cell_type": "markdown",
      "metadata": {
        "id": "_0nwkLJ8ohDf"
      },
      "source": [
        "## . Print the number of customers who bought something from the store"
      ]
    },
    {
      "cell_type": "code",
      "metadata": {
        "colab": {
          "base_uri": "https://localhost:8080/"
        },
        "id": "yxNS1xyGjqH5",
        "outputId": "0db99a3f-1166-40ca-84ff-0d9acdf95b6f"
      },
      "source": [
        "print(len(df[df['Purchase']>0]))"
      ],
      "execution_count": null,
      "outputs": [
        {
          "output_type": "stream",
          "name": "stdout",
          "text": [
            "550068\n"
          ]
        }
      ]
    },
    {
      "cell_type": "code",
      "source": [
        "print(df.columns)"
      ],
      "metadata": {
        "colab": {
          "base_uri": "https://localhost:8080/"
        },
        "id": "xkIzihKaomMK",
        "outputId": "ad2520d6-9aee-4480-ac33-08b74b559194"
      },
      "execution_count": null,
      "outputs": [
        {
          "output_type": "stream",
          "name": "stdout",
          "text": [
            "Index(['User_ID', 'Product_ID', 'Gender', 'Age', 'Occupation', 'City_Category',\n",
            "       'Stay_In_Current_City_Years', 'Marital_Status', 'Product_Category_1',\n",
            "       'Product_Category_2', 'Product_Category_3', 'Purchase'],\n",
            "      dtype='object')\n"
          ]
        }
      ]
    },
    {
      "cell_type": "code",
      "source": [
        "df.Purchase.unique()"
      ],
      "metadata": {
        "colab": {
          "base_uri": "https://localhost:8080/"
        },
        "id": "kmvdnrx-pJkX",
        "outputId": "340c80f1-d331-46a2-b3f0-6e05d12328b8"
      },
      "execution_count": null,
      "outputs": [
        {
          "output_type": "execute_result",
          "data": {
            "text/plain": [
              "array([ 8370, 15200,  1422, ...,   135,   123,   613])"
            ]
          },
          "metadata": {},
          "execution_count": 6
        }
      ]
    },
    {
      "cell_type": "markdown",
      "metadata": {
        "id": "AinCby_Q6pQF"
      },
      "source": [
        "## 9. Drop the column product_category_3.\n"
      ]
    },
    {
      "cell_type": "code",
      "source": [
        "df['Product_Category_2']"
      ],
      "metadata": {
        "colab": {
          "base_uri": "https://localhost:8080/"
        },
        "id": "I06_oOjKoHWH",
        "outputId": "2e23f81c-e180-4f9d-8c83-308474e455b3"
      },
      "execution_count": null,
      "outputs": [
        {
          "output_type": "execute_result",
          "data": {
            "text/plain": [
              "0          NaN\n",
              "1          6.0\n",
              "2          NaN\n",
              "3         14.0\n",
              "4          NaN\n",
              "          ... \n",
              "550063     NaN\n",
              "550064     NaN\n",
              "550065     NaN\n",
              "550066     NaN\n",
              "550067     NaN\n",
              "Name: Product_Category_2, Length: 550068, dtype: float64"
            ]
          },
          "metadata": {},
          "execution_count": 4
        }
      ]
    },
    {
      "cell_type": "code",
      "metadata": {
        "id": "uf5ggxZJojVF"
      },
      "source": [
        "df.drop('Product_Category_3', axis=1, inplace=True)"
      ],
      "execution_count": null,
      "outputs": []
    },
    {
      "cell_type": "markdown",
      "metadata": {
        "id": "saAFSkSF7YX1"
      },
      "source": [
        "## 10. Fill the missing values in the column Product_Category_2, with the mean value of the column.\n"
      ]
    },
    {
      "cell_type": "code",
      "metadata": {
        "colab": {
          "base_uri": "https://localhost:8080/"
        },
        "id": "xp1V6RPd6q8e",
        "outputId": "ac5e20f2-dd2a-476a-a0fd-e3566b71df61"
      },
      "source": [
        "mean_value=df['Product_Category_2'].mean()\n",
        "df['Product_Category_2'].fillna(value=mean_value, inplace=True)\n",
        "print('Updated Dataframe:')\n",
        "print(df)"
      ],
      "execution_count": null,
      "outputs": [
        {
          "output_type": "stream",
          "name": "stdout",
          "text": [
            "Updated Dataframe:\n",
            "        User_ID Product_ID  ... Product_Category_2  Purchase\n",
            "0       1000001  P00069042  ...           9.842329      8370\n",
            "1       1000001  P00248942  ...           6.000000     15200\n",
            "2       1000001  P00087842  ...           9.842329      1422\n",
            "3       1000001  P00085442  ...          14.000000      1057\n",
            "4       1000002  P00285442  ...           9.842329      7969\n",
            "...         ...        ...  ...                ...       ...\n",
            "550063  1006033  P00372445  ...           9.842329       368\n",
            "550064  1006035  P00375436  ...           9.842329       371\n",
            "550065  1006036  P00375436  ...           9.842329       137\n",
            "550066  1006038  P00375436  ...           9.842329       365\n",
            "550067  1006039  P00371644  ...           9.842329       490\n",
            "\n",
            "[550068 rows x 11 columns]\n"
          ]
        }
      ]
    },
    {
      "cell_type": "markdown",
      "metadata": {
        "id": "SzlxjcIY8LHV"
      },
      "source": [
        "## 11. Drop User_ID and Product_ID, since these columns are not helping in prediction"
      ]
    },
    {
      "cell_type": "code",
      "metadata": {
        "colab": {
          "base_uri": "https://localhost:8080/",
          "height": 320
        },
        "id": "1yipeMQg8GSK",
        "outputId": "82a5b5f5-9f60-4b49-b516-67ef9878660e"
      },
      "source": [
        "df.drop(['User_ID','Product_ID'], axis = 1,inplace=True)"
      ],
      "execution_count": null,
      "outputs": [
        {
          "output_type": "error",
          "ename": "KeyError",
          "evalue": "ignored",
          "traceback": [
            "\u001b[0;31m---------------------------------------------------------------------------\u001b[0m",
            "\u001b[0;31mKeyError\u001b[0m                                  Traceback (most recent call last)",
            "\u001b[0;32m<ipython-input-47-b614e34bcf78>\u001b[0m in \u001b[0;36m<module>\u001b[0;34m()\u001b[0m\n\u001b[0;32m----> 1\u001b[0;31m \u001b[0mdf\u001b[0m\u001b[0;34m.\u001b[0m\u001b[0mdrop\u001b[0m\u001b[0;34m(\u001b[0m\u001b[0;34m[\u001b[0m\u001b[0;34m'User_ID'\u001b[0m\u001b[0;34m,\u001b[0m\u001b[0;34m'Product_ID'\u001b[0m\u001b[0;34m]\u001b[0m\u001b[0;34m,\u001b[0m \u001b[0maxis\u001b[0m \u001b[0;34m=\u001b[0m \u001b[0;36m1\u001b[0m\u001b[0;34m,\u001b[0m\u001b[0minplace\u001b[0m\u001b[0;34m=\u001b[0m\u001b[0;32mTrue\u001b[0m\u001b[0;34m)\u001b[0m\u001b[0;34m\u001b[0m\u001b[0;34m\u001b[0m\u001b[0m\n\u001b[0m",
            "\u001b[0;32m/usr/local/lib/python3.7/dist-packages/pandas/core/frame.py\u001b[0m in \u001b[0;36mdrop\u001b[0;34m(self, labels, axis, index, columns, level, inplace, errors)\u001b[0m\n\u001b[1;32m   4172\u001b[0m             \u001b[0mlevel\u001b[0m\u001b[0;34m=\u001b[0m\u001b[0mlevel\u001b[0m\u001b[0;34m,\u001b[0m\u001b[0;34m\u001b[0m\u001b[0;34m\u001b[0m\u001b[0m\n\u001b[1;32m   4173\u001b[0m             \u001b[0minplace\u001b[0m\u001b[0;34m=\u001b[0m\u001b[0minplace\u001b[0m\u001b[0;34m,\u001b[0m\u001b[0;34m\u001b[0m\u001b[0;34m\u001b[0m\u001b[0m\n\u001b[0;32m-> 4174\u001b[0;31m             \u001b[0merrors\u001b[0m\u001b[0;34m=\u001b[0m\u001b[0merrors\u001b[0m\u001b[0;34m,\u001b[0m\u001b[0;34m\u001b[0m\u001b[0;34m\u001b[0m\u001b[0m\n\u001b[0m\u001b[1;32m   4175\u001b[0m         )\n\u001b[1;32m   4176\u001b[0m \u001b[0;34m\u001b[0m\u001b[0m\n",
            "\u001b[0;32m/usr/local/lib/python3.7/dist-packages/pandas/core/generic.py\u001b[0m in \u001b[0;36mdrop\u001b[0;34m(self, labels, axis, index, columns, level, inplace, errors)\u001b[0m\n\u001b[1;32m   3887\u001b[0m         \u001b[0;32mfor\u001b[0m \u001b[0maxis\u001b[0m\u001b[0;34m,\u001b[0m \u001b[0mlabels\u001b[0m \u001b[0;32min\u001b[0m \u001b[0maxes\u001b[0m\u001b[0;34m.\u001b[0m\u001b[0mitems\u001b[0m\u001b[0;34m(\u001b[0m\u001b[0;34m)\u001b[0m\u001b[0;34m:\u001b[0m\u001b[0;34m\u001b[0m\u001b[0;34m\u001b[0m\u001b[0m\n\u001b[1;32m   3888\u001b[0m             \u001b[0;32mif\u001b[0m \u001b[0mlabels\u001b[0m \u001b[0;32mis\u001b[0m \u001b[0;32mnot\u001b[0m \u001b[0;32mNone\u001b[0m\u001b[0;34m:\u001b[0m\u001b[0;34m\u001b[0m\u001b[0;34m\u001b[0m\u001b[0m\n\u001b[0;32m-> 3889\u001b[0;31m                 \u001b[0mobj\u001b[0m \u001b[0;34m=\u001b[0m \u001b[0mobj\u001b[0m\u001b[0;34m.\u001b[0m\u001b[0m_drop_axis\u001b[0m\u001b[0;34m(\u001b[0m\u001b[0mlabels\u001b[0m\u001b[0;34m,\u001b[0m \u001b[0maxis\u001b[0m\u001b[0;34m,\u001b[0m \u001b[0mlevel\u001b[0m\u001b[0;34m=\u001b[0m\u001b[0mlevel\u001b[0m\u001b[0;34m,\u001b[0m \u001b[0merrors\u001b[0m\u001b[0;34m=\u001b[0m\u001b[0merrors\u001b[0m\u001b[0;34m)\u001b[0m\u001b[0;34m\u001b[0m\u001b[0;34m\u001b[0m\u001b[0m\n\u001b[0m\u001b[1;32m   3890\u001b[0m \u001b[0;34m\u001b[0m\u001b[0m\n\u001b[1;32m   3891\u001b[0m         \u001b[0;32mif\u001b[0m \u001b[0minplace\u001b[0m\u001b[0;34m:\u001b[0m\u001b[0;34m\u001b[0m\u001b[0;34m\u001b[0m\u001b[0m\n",
            "\u001b[0;32m/usr/local/lib/python3.7/dist-packages/pandas/core/generic.py\u001b[0m in \u001b[0;36m_drop_axis\u001b[0;34m(self, labels, axis, level, errors)\u001b[0m\n\u001b[1;32m   3921\u001b[0m                 \u001b[0mnew_axis\u001b[0m \u001b[0;34m=\u001b[0m \u001b[0maxis\u001b[0m\u001b[0;34m.\u001b[0m\u001b[0mdrop\u001b[0m\u001b[0;34m(\u001b[0m\u001b[0mlabels\u001b[0m\u001b[0;34m,\u001b[0m \u001b[0mlevel\u001b[0m\u001b[0;34m=\u001b[0m\u001b[0mlevel\u001b[0m\u001b[0;34m,\u001b[0m \u001b[0merrors\u001b[0m\u001b[0;34m=\u001b[0m\u001b[0merrors\u001b[0m\u001b[0;34m)\u001b[0m\u001b[0;34m\u001b[0m\u001b[0;34m\u001b[0m\u001b[0m\n\u001b[1;32m   3922\u001b[0m             \u001b[0;32melse\u001b[0m\u001b[0;34m:\u001b[0m\u001b[0;34m\u001b[0m\u001b[0;34m\u001b[0m\u001b[0m\n\u001b[0;32m-> 3923\u001b[0;31m                 \u001b[0mnew_axis\u001b[0m \u001b[0;34m=\u001b[0m \u001b[0maxis\u001b[0m\u001b[0;34m.\u001b[0m\u001b[0mdrop\u001b[0m\u001b[0;34m(\u001b[0m\u001b[0mlabels\u001b[0m\u001b[0;34m,\u001b[0m \u001b[0merrors\u001b[0m\u001b[0;34m=\u001b[0m\u001b[0merrors\u001b[0m\u001b[0;34m)\u001b[0m\u001b[0;34m\u001b[0m\u001b[0;34m\u001b[0m\u001b[0m\n\u001b[0m\u001b[1;32m   3924\u001b[0m             \u001b[0mresult\u001b[0m \u001b[0;34m=\u001b[0m \u001b[0mself\u001b[0m\u001b[0;34m.\u001b[0m\u001b[0mreindex\u001b[0m\u001b[0;34m(\u001b[0m\u001b[0;34m**\u001b[0m\u001b[0;34m{\u001b[0m\u001b[0maxis_name\u001b[0m\u001b[0;34m:\u001b[0m \u001b[0mnew_axis\u001b[0m\u001b[0;34m}\u001b[0m\u001b[0;34m)\u001b[0m\u001b[0;34m\u001b[0m\u001b[0;34m\u001b[0m\u001b[0m\n\u001b[1;32m   3925\u001b[0m \u001b[0;34m\u001b[0m\u001b[0m\n",
            "\u001b[0;32m/usr/local/lib/python3.7/dist-packages/pandas/core/indexes/base.py\u001b[0m in \u001b[0;36mdrop\u001b[0;34m(self, labels, errors)\u001b[0m\n\u001b[1;32m   5285\u001b[0m         \u001b[0;32mif\u001b[0m \u001b[0mmask\u001b[0m\u001b[0;34m.\u001b[0m\u001b[0many\u001b[0m\u001b[0;34m(\u001b[0m\u001b[0;34m)\u001b[0m\u001b[0;34m:\u001b[0m\u001b[0;34m\u001b[0m\u001b[0;34m\u001b[0m\u001b[0m\n\u001b[1;32m   5286\u001b[0m             \u001b[0;32mif\u001b[0m \u001b[0merrors\u001b[0m \u001b[0;34m!=\u001b[0m \u001b[0;34m\"ignore\"\u001b[0m\u001b[0;34m:\u001b[0m\u001b[0;34m\u001b[0m\u001b[0;34m\u001b[0m\u001b[0m\n\u001b[0;32m-> 5287\u001b[0;31m                 \u001b[0;32mraise\u001b[0m \u001b[0mKeyError\u001b[0m\u001b[0;34m(\u001b[0m\u001b[0;34mf\"{labels[mask]} not found in axis\"\u001b[0m\u001b[0;34m)\u001b[0m\u001b[0;34m\u001b[0m\u001b[0;34m\u001b[0m\u001b[0m\n\u001b[0m\u001b[1;32m   5288\u001b[0m             \u001b[0mindexer\u001b[0m \u001b[0;34m=\u001b[0m \u001b[0mindexer\u001b[0m\u001b[0;34m[\u001b[0m\u001b[0;34m~\u001b[0m\u001b[0mmask\u001b[0m\u001b[0;34m]\u001b[0m\u001b[0;34m\u001b[0m\u001b[0;34m\u001b[0m\u001b[0m\n\u001b[1;32m   5289\u001b[0m         \u001b[0;32mreturn\u001b[0m \u001b[0mself\u001b[0m\u001b[0;34m.\u001b[0m\u001b[0mdelete\u001b[0m\u001b[0;34m(\u001b[0m\u001b[0mindexer\u001b[0m\u001b[0;34m)\u001b[0m\u001b[0;34m\u001b[0m\u001b[0;34m\u001b[0m\u001b[0m\n",
            "\u001b[0;31mKeyError\u001b[0m: \"['User_ID' 'Product_ID'] not found in axis\""
          ]
        }
      ]
    },
    {
      "cell_type": "markdown",
      "metadata": {
        "id": "fS9SoRT38iT9"
      },
      "source": [
        "## 12. Draw a heatmap using seaborn library, that contains correlation coefficient of different features.\n"
      ]
    },
    {
      "cell_type": "code",
      "metadata": {
        "colab": {
          "base_uri": "https://localhost:8080/",
          "height": 707
        },
        "id": "-DJH0CIt8pHv",
        "outputId": "174a351d-85e6-450f-a1bb-d5869ba78a15"
      },
      "source": [
        "correlation=df.corr().round(2)\n",
        "sns.set(rc={'figure.figsize':(15,8)})\n",
        "print (correlation)\n",
        "fig1=sns.heatmap(correlation,annot=True)\n",
        "fig1.set_title('correlation')\n",
        "fig1.set_ylabel(None)"
      ],
      "execution_count": null,
      "outputs": [
        {
          "output_type": "stream",
          "name": "stdout",
          "text": [
            "                    User_ID   Age  ...  Product_Category_3  Purchase\n",
            "User_ID                1.00  0.04  ...                0.00      0.00\n",
            "Age                    0.04  1.00  ...                0.06      0.02\n",
            "Occupation            -0.02  0.10  ...                0.01      0.02\n",
            "Marital_Status         0.02  0.31  ...                0.02     -0.00\n",
            "Product_Category_1     0.00  0.06  ...                0.23     -0.34\n",
            "Product_Category_2     0.00  0.05  ...                0.54     -0.18\n",
            "Product_Category_3     0.00  0.06  ...                1.00     -0.02\n",
            "Purchase               0.00  0.02  ...               -0.02      1.00\n",
            "\n",
            "[8 rows x 8 columns]\n"
          ]
        },
        {
          "output_type": "execute_result",
          "data": {
            "text/plain": [
              "Text(110.59375, 0.5, '')"
            ]
          },
          "metadata": {},
          "execution_count": 12
        },
        {
          "output_type": "display_data",
          "data": {
            "image/png": "[encoded data removed]",
            "text/plain": [
              "<Figure size 1080x576 with 2 Axes>"
            ]
          },
          "metadata": {}
        }
      ]
    },
    {
      "cell_type": "markdown",
      "metadata": {
        "id": "auAll7IRB4GU"
      },
      "source": [
        "## 13. Divide the data into training ang testing set, 70% of data should be training and 30% test."
      ]
    },
    {
      "cell_type": "code",
      "metadata": {
        "id": "SNEEadKs831Y",
        "colab": {
          "base_uri": "https://localhost:8080/"
        },
        "outputId": "6134ac07-f00d-49fb-e39a-2e8af3b12b1e"
      },
      "source": [
        "X1= pd.DataFrame([df['Product_Category_1'],df['Occupation']])\n",
        "Y1 =df['Age']\n",
        "#print(X1.shape)\n",
        "#print(Y1.shape)\n",
        "X1_new=X1.to_numpy()\n",
        "Y1_new=Y1.to_numpy()\n",
        "print(X1_new.shape)\n",
        "print(Y1_new.shape)\n",
        "\n",
        "X1=X1.transpose()\n",
        "Y1=Y1.transpose()\n",
        "\n",
        "X_train, X_test, Y_train, Y_test = train_test_split(X1, Y1, test_size = 0.3, random_state=1)\n",
        "print(X_train.shape)\n",
        "print(X_test.shape)\n",
        "print(Y_train.shape)\n",
        "print(Y_test.shape)"
      ],
      "execution_count": null,
      "outputs": [
        {
          "output_type": "stream",
          "name": "stdout",
          "text": [
            "(2, 550068)\n",
            "(550068,)\n",
            "(385047, 2)\n",
            "(165021, 2)\n",
            "(385047,)\n",
            "(165021,)\n"
          ]
        }
      ]
    },
    {
      "cell_type": "markdown",
      "metadata": {
        "id": "v3P8KJ3uCJc7"
      },
      "source": [
        "## 14. Build a linear regression model using training data."
      ]
    },
    {
      "cell_type": "code",
      "metadata": {
        "id": "L3OSg8ToCsK1",
        "colab": {
          "base_uri": "https://localhost:8080/"
        },
        "outputId": "3be74697-69a7-470b-fccc-27c6a48c1399"
      },
      "source": [
        "lin_model = LinearRegression()\n",
        "lin_model.fit(X_train, Y_train)"
      ],
      "execution_count": null,
      "outputs": [
        {
          "output_type": "execute_result",
          "data": {
            "text/plain": [
              "LinearRegression()"
            ]
          },
          "metadata": {},
          "execution_count": 56
        }
      ]
    },
    {
      "cell_type": "markdown",
      "metadata": {
        "id": "BMAKlzc4CRWv"
      },
      "source": [
        "## 15. Print all the coefficients of linear regression\n"
      ]
    },
    {
      "cell_type": "code",
      "metadata": {
        "id": "nA2w_e9gDWBI",
        "colab": {
          "base_uri": "https://localhost:8080/"
        },
        "outputId": "09989fc1-51c4-4339-fa4e-b7f81fd449d2"
      },
      "source": [
        "print(lin_model.coef_)\n",
        "#print(lin_model.intercept_)"
      ],
      "execution_count": null,
      "outputs": [
        {
          "output_type": "stream",
          "name": "stdout",
          "text": [
            "[0.17170103 0.16499015]\n"
          ]
        }
      ]
    },
    {
      "cell_type": "markdown",
      "metadata": {
        "id": "HuaNOHfGCXkP"
      },
      "source": [
        "## 16. Use the test data to predict the Purchase value\n"
      ]
    },
    {
      "cell_type": "code",
      "metadata": {
        "id": "6CL9EfOJDdd-",
        "colab": {
          "base_uri": "https://localhost:8080/",
          "height": 1000
        },
        "outputId": "1c2d9d28-fc66-4e6e-e777-1c845653f34c"
      },
      "source": [
        "Y_predict=lin_model.predict(X_test)\n",
        "print(Y_predict)\n",
        "\n",
        "# To PLOT THE DIFFERENCE BETWEEN ORIGINAL AND THE PREDICTED PURCHASE VALUE\n",
        "\n",
        "import matplotlib.pyplot as plt\n",
        "\n",
        "fig, ax = plt.subplots(4, figsize=(20, 20))\n",
        "\n",
        "# original price\n",
        "ax[0].scatter(x = X_test['Product_Category_1'], y = Y_test)\n",
        "ax[0].set_xlabel(\"Product_Category_1\")\n",
        "ax[0].set_ylabel(\"Orginal Purchase value Price\")\n",
        "\n",
        "# predicted price\n",
        "ax[1].scatter(x = X_test['Product_Category_1'], y = Y_predict)\n",
        "ax[1].set_xlabel(\"Product_Category_1\")\n",
        "ax[1].set_ylabel(\"Predicted Purchase value\")\n",
        "\n",
        "# original price\n",
        "ax[2].scatter(x = X_test['Occupation'], y = Y_test)\n",
        "ax[2].set_xlabel(\"Occupation\")\n",
        "ax[2].set_ylabel(\"purchase value\")\n",
        "\n",
        "# predicted price\n",
        "ax[3].scatter(x = X_test['Occupation'], y = Y_predict)\n",
        "ax[3].set_xlabel(\"Occupation\")\n",
        "ax[3].set_ylabel(\"predicted Purchase value\")"
      ],
      "execution_count": null,
      "outputs": [
        {
          "output_type": "stream",
          "name": "stdout",
          "text": [
            "[35.16853672 35.30668338 36.6534481  ... 35.96664399 34.38385121\n",
            " 35.31339425]\n"
          ]
        },
        {
          "output_type": "execute_result",
          "data": {
            "text/plain": [
              "Text(0, 0.5, 'predicted Purchase value')"
            ]
          },
          "metadata": {},
          "execution_count": 51
        },
        {
          "output_type": "display_data",
          "data": {
            "image/png": "[encoded data removed]",
            "text/plain": [
              "<Figure size 1440x1440 with 4 Axes>"
            ]
          },
          "metadata": {
            "needs_background": "light"
          }
        }
      ]
    },
    {
      "cell_type": "markdown",
      "metadata": {
        "id": "i8C8-HXzCbI-"
      },
      "source": [
        "## 17. Print Root mean square error of the model."
      ]
    },
    {
      "cell_type": "code",
      "metadata": {
        "colab": {
          "base_uri": "https://localhost:8080/"
        },
        "id": "YvU3DJXoDgEt",
        "outputId": "0fdc12df-0172-4711-faa2-40261f813dfb"
      },
      "source": [
        "rmse = (np.sqrt(mean_squared_error(Y_test, Y_predict)))\n",
        "print('RMSE is {}'.format(rmse))"
      ],
      "execution_count": null,
      "outputs": [
        {
          "output_type": "stream",
          "name": "stdout",
          "text": [
            "RMSE is 10.974258923023468\n"
          ]
        }
      ]
    },
    {
      "cell_type": "markdown",
      "source": [
        " **Model Not Good For Prediction**"
      ],
      "metadata": {
        "id": "X-TBI0RzQAOG"
      }
    }
  ]
}